{
  "nbformat": 4,
  "nbformat_minor": 0,
  "metadata": {
    "colab": {
      "provenance": [],
      "toc_visible": true,
      "authorship_tag": "ABX9TyPjYw507k+o7/ofU4DE9xEt",
      "include_colab_link": true
    },
    "kernelspec": {
      "name": "python3",
      "display_name": "Python 3"
    },
    "language_info": {
      "name": "python"
    }
  },
  "cells": [
    {
      "cell_type": "markdown",
      "metadata": {
        "id": "view-in-github",
        "colab_type": "text"
      },
      "source": [
        "<a href=\"https://colab.research.google.com/github/nabigwaku/Sales-Analysis-Project---2019/blob/master/Sales_Analysis_Project_2019.ipynb\" target=\"_parent\"><img src=\"https://colab.research.google.com/assets/colab-badge.svg\" alt=\"Open In Colab\"/></a>"
      ]
    },
    {
      "cell_type": "markdown",
      "source": [
        "## Introduction"
      ],
      "metadata": {
        "id": "IUcx7swQtT-W"
      }
    },
    {
      "cell_type": "markdown",
      "source": [
        "**Objective**\n",
        "\n",
        "  The goal of this project is to analyze the sales data for the year 2019 using Python and provide actionable insights to help the business make informed decisions. Specifically, the analysis will address the following business questions:\n",
        "\n",
        "1. What was the best month for sales, and how much was earned that month?\n",
        "2. Which city sold the most product in terms of quantity and total sales?\n",
        "3. What time should advertisements be displayed to maximize the likelihood of customers purchasing products?\n",
        "4. What products are most often sold together?\n",
        "5. What product sold the most, and why did it perform so well?\n",
        "\n",
        "**Data Description**\n",
        "\n",
        "  The dataset consists of 12 CSV files, each representing sales data for one month of 2019.\n",
        "  The data includes information on the::\n",
        "  * products sold,\n",
        "  * quantities,\n",
        "  * prices,\n",
        "  * sales transactions,\n",
        "  * and the cities where the sales occurred."
      ],
      "metadata": {
        "id": "64Hx3w4ZtXOL"
      }
    },
    {
      "cell_type": "markdown",
      "source": [
        "## 2. Data Loading and Cleaning"
      ],
      "metadata": {
        "id": "9iW3MxpswMVQ"
      }
    },
    {
      "cell_type": "markdown",
      "source": [
        "### 2.1 Loading Data"
      ],
      "metadata": {
        "id": "OL8G7CacwO_s"
      }
    },
    {
      "cell_type": "markdown",
      "source": [
        "> Import the necessary librarie"
      ],
      "metadata": {
        "id": "yDz4J24-waHR"
      }
    },
    {
      "cell_type": "markdown",
      "source": [
        "> Load all 12 CSV files into individual DataFrames."
      ],
      "metadata": {
        "id": "Em9P4vMLwhkW"
      }
    },
    {
      "cell_type": "markdown",
      "source": [
        "> Concatenate these DataFrames into a single DataFrame for comprehensive analysis."
      ],
      "metadata": {
        "id": "C-FRH7v3wqQA"
      }
    },
    {
      "cell_type": "markdown",
      "source": [
        "### 2.2 Data Cleaning"
      ],
      "metadata": {
        "id": "03viKZ6pxNi-"
      }
    },
    {
      "cell_type": "markdown",
      "source": [
        "> Handle Missing Values: Identify and appropriately handle any missing values in the dataset."
      ],
      "metadata": {
        "id": "DXG1VPwbxWJI"
      }
    },
    {
      "cell_type": "markdown",
      "source": [
        "> Data Type Conversion: Ensure that columns are in the correct data types"
      ],
      "metadata": {
        "id": "a7tTXn9jxvmo"
      }
    },
    {
      "cell_type": "markdown",
      "source": [
        "> Duplicate Removal: Check for and remove any duplicate rows to ensure data integrity."
      ],
      "metadata": {
        "id": "O40kJf2txwMN"
      }
    },
    {
      "cell_type": "markdown",
      "source": [
        "> Additional Cleaning: Remove any erroneous data (e.g., invalid dates, negative sales)."
      ],
      "metadata": {
        "id": "LEKb4dcwxw24"
      }
    },
    {
      "cell_type": "markdown",
      "source": [
        "## 3. Exploratory Data Analysis (EDA)"
      ],
      "metadata": {
        "id": "qfYHb_-LyPsf"
      }
    },
    {
      "cell_type": "markdown",
      "source": [
        "### 3.1 Overview of the Dataset"
      ],
      "metadata": {
        "id": "9qCmL-kBybcZ"
      }
    },
    {
      "cell_type": "markdown",
      "source": [
        "> Display of basic statistics (mean, median, mode, etc.) to understand the dataset."
      ],
      "metadata": {
        "id": "5AEwFKZxyg09"
      }
    },
    {
      "cell_type": "markdown",
      "source": [
        "> Plot distributions of key variables (e.g., sales amounts, transaction counts)."
      ],
      "metadata": {
        "id": "r0JovSuTyjdP"
      }
    },
    {
      "cell_type": "markdown",
      "source": [
        "> Identify any outliers that may need further investigation."
      ],
      "metadata": {
        "id": "ykK8JZhPyjyB"
      }
    },
    {
      "cell_type": "markdown",
      "source": [
        "### 3.2 Monthly Sales Trends"
      ],
      "metadata": {
        "id": "mh-J9dcHzF7R"
      }
    },
    {
      "cell_type": "markdown",
      "source": [
        "> Calculate the total sales for each month."
      ],
      "metadata": {
        "id": "aCOqLLo4zJTF"
      }
    },
    {
      "cell_type": "markdown",
      "source": [
        "> Plot a time series graph of monthly sales to visualize trends over the year."
      ],
      "metadata": {
        "id": "4kLzql7WzKzC"
      }
    },
    {
      "cell_type": "markdown",
      "source": [
        "## 4. Analysis by Business Question"
      ],
      "metadata": {
        "id": "MXc4u4cWzgy5"
      }
    },
    {
      "cell_type": "markdown",
      "source": [
        "### 4.1 Question 1: What was the Best Month for Sales?"
      ],
      "metadata": {
        "id": "fviBh2Awzzmr"
      }
    },
    {
      "cell_type": "markdown",
      "source": [
        "> **Calculation:** Aggregate sales data by month and compute the total sales."
      ],
      "metadata": {
        "id": "N1G1S1gSz1xW"
      }
    },
    {
      "cell_type": "markdown",
      "source": [
        "> **Result:** Identify the month with the highest total sales and determine the earnings for that month."
      ],
      "metadata": {
        "id": "jDu4Mes4z95w"
      }
    },
    {
      "cell_type": "markdown",
      "source": [
        "> **Visualization:** Create a bar chart showing sales by month."
      ],
      "metadata": {
        "id": "Ff_5lJqM0Dyi"
      }
    },
    {
      "cell_type": "markdown",
      "source": [
        "### 4.2 Question 2: Which City Sold the Most Product?"
      ],
      "metadata": {
        "id": "mV_r6JaG0OXf"
      }
    },
    {
      "cell_type": "markdown",
      "source": [
        "> **Calculation:** Group the data by city and compute the total sales and quantity sold."
      ],
      "metadata": {
        "id": "LcXACyW00OXj"
      }
    },
    {
      "cell_type": "markdown",
      "source": [
        "> **Result:** Identify the city with the highest total sales and the highest quantity sold."
      ],
      "metadata": {
        "id": "JmVmLmUS0OXl"
      }
    },
    {
      "cell_type": "markdown",
      "source": [
        "> **Visualization:** Use a bar chart or map to display the sales and quantities by city."
      ],
      "metadata": {
        "id": "tkKD7eEo0OXn"
      }
    },
    {
      "cell_type": "markdown",
      "source": [
        "### 4.3 Question 3: Optimal Advertisement Time"
      ],
      "metadata": {
        "id": "3xNrAo6m0msS"
      }
    },
    {
      "cell_type": "markdown",
      "source": [
        "> **Time Extraction**: Extract the hour from the timestamp of each transaction."
      ],
      "metadata": {
        "id": "DmSHQ-AK0msU"
      }
    },
    {
      "cell_type": "markdown",
      "source": [
        "> **Calculation**: Group the data by hour and calculate the total sales for each hour."
      ],
      "metadata": {
        "id": "--1Slddu0msX"
      }
    },
    {
      "cell_type": "markdown",
      "source": [
        "> **Result:** Identify the hours with the highest sales to determine the optimal times for advertising."
      ],
      "metadata": {
        "id": "s45MFxUr1Blf"
      }
    },
    {
      "cell_type": "markdown",
      "source": [
        "> **Visualization:** Create a line graph showing sales distribution throughout the day."
      ],
      "metadata": {
        "id": "wC4wEfkQ0msY"
      }
    },
    {
      "cell_type": "markdown",
      "source": [
        "### 4.4 Question 4: Products Sold Together"
      ],
      "metadata": {
        "id": "C9C1anwV3_zj"
      }
    },
    {
      "cell_type": "markdown",
      "source": [
        "> **Transaction Analysis:** Identify orders with multiple products."
      ],
      "metadata": {
        "id": "NYzD5F1D3_0e"
      }
    },
    {
      "cell_type": "markdown",
      "source": [
        "> **Pairing Analysis:** Determine which products are frequently purchased together."
      ],
      "metadata": {
        "id": "P2lGq4Jj3_0j"
      }
    },
    {
      "cell_type": "markdown",
      "source": [
        "> **Result:** List the most common product combinations."
      ],
      "metadata": {
        "id": "t4NFZ7SD3_0l"
      }
    },
    {
      "cell_type": "markdown",
      "source": [
        "> **Visualization:** Create a heatmap or network graph to visualize product pairs."
      ],
      "metadata": {
        "id": "VrwlfX793_0n"
      }
    },
    {
      "cell_type": "markdown",
      "source": [
        "### 4.5 Question 5: Best-Selling Product"
      ],
      "metadata": {
        "id": "LYTkA4t84qV-"
      }
    },
    {
      "cell_type": "markdown",
      "source": [
        "> **Calculation:** Aggregate data to find the total quantity sold for each product."
      ],
      "metadata": {
        "id": "3bBhMJRm4qV_"
      }
    },
    {
      "cell_type": "markdown",
      "source": [
        "> **Result:** Identify the product with the highest sales and explore possible reasons for its success (e.g., pricing, popularity)."
      ],
      "metadata": {
        "id": "kLB09rDe4qWA"
      }
    },
    {
      "cell_type": "markdown",
      "source": [
        "> **Visualization:** Use a bar chart to show sales distribution across products."
      ],
      "metadata": {
        "id": "m608w6gD4qWF"
      }
    },
    {
      "cell_type": "markdown",
      "source": [
        "## 5. Conclusion"
      ],
      "metadata": {
        "id": "jPVHpP8H5H-h"
      }
    },
    {
      "cell_type": "markdown",
      "source": [
        "### Summary of Findings"
      ],
      "metadata": {
        "id": "JF2Zhtru5O0f"
      }
    },
    {
      "cell_type": "markdown",
      "source": [
        "> **Best Month for Sales:** Discuss which month was the best and how much revenue was generated."
      ],
      "metadata": {
        "id": "9daoPbEK5H-l"
      }
    },
    {
      "cell_type": "markdown",
      "source": [
        "> **Top City for Sales:** Highlight the city with the most sales and possible reasons for its success."
      ],
      "metadata": {
        "id": "KXm0AytT5H-m"
      }
    },
    {
      "cell_type": "markdown",
      "source": [
        "> **Optimal Advertisement Times:** Recommend the best times to run advertisements based on sales patterns."
      ],
      "metadata": {
        "id": "HgBGEeqg5fuB"
      }
    },
    {
      "cell_type": "markdown",
      "source": [
        "> **Product Combinations:** Discuss frequently sold-together products and potential bundling opportunities."
      ],
      "metadata": {
        "id": "f2xasD4_5f3l"
      }
    },
    {
      "cell_type": "markdown",
      "source": [
        "> **Best-Selling Product:** Analyze the reasons behind the top product's success and its implications for inventory management."
      ],
      "metadata": {
        "id": "RvVQS_PC5H-o"
      }
    },
    {
      "cell_type": "markdown",
      "source": [
        "### Recommendations"
      ],
      "metadata": {
        "id": "arqieU7R54nd"
      }
    },
    {
      "cell_type": "markdown",
      "source": [
        "> Based on the findings, provide strategic recommendations for optimizing sales, improving marketing efforts, and increasing overall profitability."
      ],
      "metadata": {
        "id": "w27n8WBI56iA"
      }
    },
    {
      "cell_type": "markdown",
      "source": [
        "## 6. Appendix"
      ],
      "metadata": {
        "id": "PYCd6duA6CSB"
      }
    },
    {
      "cell_type": "markdown",
      "source": [
        "### Additional Analysis"
      ],
      "metadata": {
        "id": "7Ts-EiHF6EFr"
      }
    },
    {
      "cell_type": "markdown",
      "source": [
        "* Include any additional insights or analysis that supports the main findings.\n",
        "* Provide further breakdowns of data, such as sales by product category or customer demographics."
      ],
      "metadata": {
        "id": "MwbIsVBp6Ied"
      }
    },
    {
      "cell_type": "markdown",
      "source": [
        "### Code References"
      ],
      "metadata": {
        "id": "baLj-lw26R4g"
      }
    },
    {
      "cell_type": "markdown",
      "source": [
        "* Document key Python functions, methods, or custom scripts used in the analysis.\n",
        "* Provide references to any external libraries or resources used."
      ],
      "metadata": {
        "id": "9HPNK84F6R4j"
      }
    }
  ]
}